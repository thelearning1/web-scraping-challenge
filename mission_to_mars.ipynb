{
 "cells": [
  {
   "cell_type": "markdown",
   "metadata": {},
   "source": [
    "# Scraping"
   ]
  },
  {
   "cell_type": "code",
   "execution_count": 80,
   "metadata": {},
   "outputs": [],
   "source": [
    "# Mission to Mars\n",
    "from bs4 import BeautifulSoup as bs\n",
    "import pandas as pd\n",
    "from splinter import Browser\n",
    "from selenium import webdriver\n",
    "\n",
    "#open the browser\n",
    "browser = Browser('chrome')"
   ]
  },
  {
   "cell_type": "code",
   "execution_count": 13,
   "metadata": {
    "scrolled": true
   },
   "outputs": [],
   "source": [
    "# Visit the mars news site\n",
    "url = \"https://redplanetscience.com\"\n",
    "\n",
    "#navigate to the site and pull the html\n",
    "browser.visit(url)\n",
    "html = browser.html\n",
    "\n",
    "#create the soup\n",
    "soup = bs(html,\"html.parser\")"
   ]
  },
  {
   "cell_type": "code",
   "execution_count": 30,
   "metadata": {},
   "outputs": [
    {
     "name": "stdout",
     "output_type": "stream",
     "text": [
      "Two Rovers to Roll on Mars Again: Curiosity and Mars 2020\n",
      "They look like twins. But under the hood, the rover currently exploring the Red Planet and the one launching there this summer have distinct science tools and roles to play.\n"
     ]
    }
   ],
   "source": [
    "#isolate the places where the correct info can be found and bind them to the variables\n",
    "news_title = soup.find_all('div',class_=\"content_title\")\n",
    "news_p = soup.find_all('div',class_=\"article_teaser_body\")\n",
    "news_p = news_p[0].text\n",
    "news_title = news_title[0].text\n",
    "print(news_title)\n",
    "print(news_p)"
   ]
  },
  {
   "cell_type": "markdown",
   "metadata": {},
   "source": [
    "## Mars Image"
   ]
  },
  {
   "cell_type": "code",
   "execution_count": 51,
   "metadata": {},
   "outputs": [],
   "source": [
    "#navigate to site hosting the image\n",
    "url = 'https://spaceimages-mars.com'\n",
    "browser.visit(url)\n",
    "\n",
    "#rummage through the soup the soup to pull the image source\n",
    "html = browser.html\n",
    "soup = bs(html,\"html.parser\")\n",
    "\n",
    "#get the url portion from the header image and create full url\n",
    "image = soup.find(\"img\",class_=\"headerimage fade-in\")['src']\n",
    "image_url = f\"{url}/{image}\"\n",
    "\n",
    "#display the url\n",
    "image_url"
   ]
  },
  {
   "cell_type": "markdown",
   "metadata": {},
   "source": [
    "## Mars Information"
   ]
  },
  {
   "cell_type": "code",
   "execution_count": 68,
   "metadata": {
    "scrolled": true
   },
   "outputs": [],
   "source": [
    "#navigate to the third site that has mars facts\n",
    "url = 'https://galaxyfacts-mars.com'\n",
    "browser.visit(url)\n",
    "\n",
    "#rummage through the soup the soup to pull the image source\n",
    "html = browser.html\n",
    "mars_table = pd.read_html(url)\n",
    "mars_table_string = mars_table[1].to_html()\n",
    "\n",
    "mars_table_string"
   ]
  },
  {
   "cell_type": "markdown",
   "metadata": {},
   "source": [
    "## Hemisphere Images"
   ]
  },
  {
   "cell_type": "code",
   "execution_count": null,
   "metadata": {},
   "outputs": [],
   "source": [
    "#navigate to the site that has the images of the martian hemispheres\n",
    "url = \"https://marshemispheres.com\"\n",
    "browser.visit(url)\n",
    "html = browser.html\n",
    "soup = bs(html,'html.parser')"
   ]
  },
  {
   "cell_type": "code",
   "execution_count": 98,
   "metadata": {},
   "outputs": [
    {
     "data": {
      "text/plain": [
       "['Cerberus Hemisphere',\n",
       " 'Schiaparelli Hemisphere',\n",
       " 'Syrtis Major Hemisphere',\n",
       " 'Valles Marineris Hemisphere']"
      ]
     },
     "execution_count": 98,
     "metadata": {},
     "output_type": "execute_result"
    }
   ],
   "source": [
    "#pull the hemisphere names out of the links\n",
    "hemispheres = []\n",
    "n = 0\n",
    "for h3 in soup.find_all('h3'):\n",
    "    if n < 4:\n",
    "        x = h3.get_text().split(' En')[0]\n",
    "        hemispheres.append(x)\n",
    "        n+=1\n",
    "        \n",
    "hemispheres"
   ]
  },
  {
   "cell_type": "code",
   "execution_count": 125,
   "metadata": {},
   "outputs": [],
   "source": [
    "#create a list of links for navigation\n",
    "tnail_links = []\n",
    "for result in soup.find_all('div',class_='collapsible results'):\n",
    "    for anchor in result.find_all('a'):\n",
    "        if (anchor.img):\n",
    "            tnail_links.append(f'{url}/{anchor[\"href\"]}')"
   ]
  },
  {
   "cell_type": "code",
   "execution_count": 128,
   "metadata": {},
   "outputs": [],
   "source": [
    "#go to each page in the list to pull the full-size images\n",
    "links = []\n",
    "for tnail in tnail_links:\n",
    "    browser.visit(tnail)\n",
    "    html = browser.html\n",
    "    soup = bs(html,'html.parser')\n",
    "    \n",
    "    #find the images in the soup and put the links in the list\n",
    "    result = soup.find_all('img',class_='wide-image')\n",
    "    extension = result[0]['src']\n",
    "    links.append(f'{url}/{extension}')"
   ]
  },
  {
   "cell_type": "code",
   "execution_count": 130,
   "metadata": {},
   "outputs": [
    {
     "data": {
      "text/plain": [
       "[{'title': 'Cerberus Hemisphere',\n",
       "  'img_url': 'https://marshemispheres.com/images/f5e372a36edfa389625da6d0cc25d905_cerberus_enhanced.tif_full.jpg'},\n",
       " {'title': 'Schiaparelli Hemisphere',\n",
       "  'img_url': 'https://marshemispheres.com/images/3778f7b43bbbc89d6e3cfabb3613ba93_schiaparelli_enhanced.tif_full.jpg'},\n",
       " {'title': 'Syrtis Major Hemisphere',\n",
       "  'img_url': 'https://marshemispheres.com/images/555e6403a6ddd7ba16ddb0e471cadcf7_syrtis_major_enhanced.tif_full.jpg'},\n",
       " {'title': 'Valles Marineris Hemisphere',\n",
       "  'img_url': 'https://marshemispheres.com/images/b3c7c6c9138f57b4756be9b9c43e3a48_valles_marineris_enhanced.tif_full.jpg'}]"
      ]
     },
     "execution_count": 130,
     "metadata": {},
     "output_type": "execute_result"
    }
   ],
   "source": [
    "# Zip some tuples of the \n",
    "hemizip = zip(hemispheres, links)\n",
    "dict_list = []\n",
    "\n",
    "# Iterate through the zipped object\n",
    "for title, img in hemizip:\n",
    "    mars_dict = {}\n",
    "    \n",
    "    # Add title key\n",
    "    mars_dict['title'] = title\n",
    "    \n",
    "    # Add url key\n",
    "    mars_dict['img_url'] = img\n",
    "    \n",
    "    # put dictionaries in the list\n",
    "    dict_list.append(mars_dict)\n",
    "    \n",
    "dict_list"
   ]
  },
  {
   "cell_type": "code",
   "execution_count": null,
   "metadata": {},
   "outputs": [],
   "source": []
  }
 ],
 "metadata": {
  "kernelspec": {
   "display_name": "Python [conda env:.conda-PythonData] *",
   "language": "python",
   "name": "conda-env-.conda-PythonData-py"
  },
  "language_info": {
   "codemirror_mode": {
    "name": "ipython",
    "version": 3
   },
   "file_extension": ".py",
   "mimetype": "text/x-python",
   "name": "python",
   "nbconvert_exporter": "python",
   "pygments_lexer": "ipython3",
   "version": "3.8.5"
  }
 },
 "nbformat": 4,
 "nbformat_minor": 2
}
